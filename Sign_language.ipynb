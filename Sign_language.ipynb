{
  "nbformat": 4,
  "nbformat_minor": 0,
  "metadata": {
    "colab": {
      "provenance": []
    },
    "kernelspec": {
      "name": "python3",
      "display_name": "Python 3"
    },
    "language_info": {
      "name": "python"
    }
  },
  "cells": [
    {
      "cell_type": "code",
      "execution_count": null,
      "metadata": {
        "id": "5Jv6lY8sIzJw"
      },
      "outputs": [],
      "source": [
        "import os\n",
        "import cv2 as cv\n",
        "from sklearn.model_selection import train_test_split\n",
        "import numpy as np\n",
        "import matplotlib.pyplot as plt\n",
        "from keras.datasets import mnist\n",
        "from keras.models import Sequential\n",
        "from keras.layers import Dense\n",
        "import tensorflow as tf\n",
        "from tensorflow import keras\n",
        "from skimage import color\n",
        "from keras.wrappers.scikit_learn import KerasClassifier\n",
        "from sklearn.model_selection import cross_val_score"
      ]
    },
    {
      "cell_type": "markdown",
      "source": [
        "##Read Data"
      ],
      "metadata": {
        "id": "CWcEEbu748WR"
      }
    },
    {
      "cell_type": "code",
      "source": [
        "from google.colab import drive\n",
        "drive.mount('/content/drive')\n",
        "os.chdir(r\"https://drive.google.com/file/d/1AvfkBfpvWV7l8rJQK8T4Fh1HzuiGmKnm/view?usp=share_link\")"
      ],
      "metadata": {
        "id": "U-EvcreoJBdA"
      },
      "execution_count": null,
      "outputs": []
    },
    {
      "cell_type": "markdown",
      "source": [
        "##Extract Data from folder"
      ],
      "metadata": {
        "id": "ujR5NW0b50GK"
      }
    },
    {
      "cell_type": "code",
      "source": [
        "training_data=[]\n",
        "\n",
        "def load_training_data():\n",
        " for i in range(10):\n",
        "   class_num= i\n",
        "   for image in os.listdir(os.path.join(\"/content/drive/MyDrive/Sign-Language-Digits-Dataset-master/Dataset\",str(i))):\n",
        "      image_path =os.path.join(\"/content/drive/MyDrive/Sign-Language-Digits-Dataset-master/Dataset\",str(i),image)\n",
        "      img = cv2.imread(image_path, 0)\n",
        "      new_image = cv2.resize(img, (100, 100))\n",
        "      training_data.append([new_image,class_num])\n",
        "load_training_data()\n",
        "print(training_data[0][0])"
      ],
      "metadata": {
        "id": "6Siyggk9JUfg"
      },
      "execution_count": null,
      "outputs": []
    },
    {
      "cell_type": "markdown",
      "source": [
        "##Split data to features and targets"
      ],
      "metadata": {
        "id": "KdgE8jOz6LFY"
      }
    },
    {
      "cell_type": "code",
      "source": [
        "x=[]\n",
        "y=[]\n",
        "for features,label in training_data:\n",
        "  x.append(features)\n",
        "  y.append(label)\n",
        "\n",
        "x=np.array(x).reshape(-1, 100, 100)\n",
        "y = np.array(y)\n",
        "print(x.shape)\n",
        "print(y.shape)"
      ],
      "metadata": {
        "id": "ODgqxzJ7J-Ld"
      },
      "execution_count": null,
      "outputs": []
    },
    {
      "cell_type": "markdown",
      "source": [
        "##Solit data to train and test"
      ],
      "metadata": {
        "id": "U3v9oWry7kRg"
      }
    },
    {
      "cell_type": "code",
      "source": [
        "X_train,X_test, y_train,y_test = train_test_split(x,y,test_size = 0.2,random_state=1234)"
      ],
      "metadata": {
        "id": "NdVbN36FKRI9"
      },
      "execution_count": null,
      "outputs": []
    },
    {
      "cell_type": "markdown",
      "source": [
        "##Convert images to gray and normalize it by dividing it by 255"
      ],
      "metadata": {
        "id": "WU600yRE7iKk"
      }
    },
    {
      "cell_type": "code",
      "source": [
        "X_train_gray = []\n",
        "X_test_gray = []\n",
        "for img in X_train:\n",
        "    gray = color.rgb2gray(img)\n",
        "    X_train_gray.append((gray / 255))\n",
        "\n",
        "for img in X_test:\n",
        "    gray = color.rgb2gray(img)\n",
        "    X_test_gray.append((gray / 255))"
      ],
      "metadata": {
        "id": "cFRdQlT7KLLy"
      },
      "execution_count": null,
      "outputs": []
    },
    {
      "cell_type": "markdown",
      "source": [
        "##Reshape train and test data to be of size 100*100"
      ],
      "metadata": {
        "id": "BAK3SmVG8FJ2"
      }
    },
    {
      "cell_type": "code",
      "source": [
        "X_train_flattened = X_train.reshape(len(X_train_gray), 100*100)\n",
        "X_test_flattened = X_test.reshape(len(X_test_gray), 100*100)"
      ],
      "metadata": {
        "id": "6UV8zc7EW03L"
      },
      "execution_count": null,
      "outputs": []
    },
    {
      "cell_type": "markdown",
      "source": [
        "##Create the first model of 5 layers"
      ],
      "metadata": {
        "id": "APZVrAb98O3T"
      }
    },
    {
      "cell_type": "code",
      "source": [
        "def create_model1():\n",
        "  model1 = Sequential()\n",
        "  model1.add(Dense(512, activation='relu'))\n",
        "  model1.add(Dense(256, activation='relu'))\n",
        "  model1.add(Dense(128, activation='relu'))\n",
        "  model1.add(Dense(64, activation='relu'))\n",
        "  model1.add(Dense(10, activation='softmax'))\n",
        "  model1.compile(optimizer='adam', loss='sparse_categorical_crossentropy', metrics=['accuracy'])\n",
        "  return model1"
      ],
      "metadata": {
        "id": "Ylk-iudnNXnJ"
      },
      "execution_count": null,
      "outputs": []
    },
    {
      "cell_type": "code",
      "source": [
        "returned_model1 = create_model1()\n",
        "returned_model1.fit(X_train_flattened, y_train, epochs=5)"
      ],
      "metadata": {
        "id": "HXNFL21GXJhN"
      },
      "execution_count": null,
      "outputs": []
    },
    {
      "cell_type": "markdown",
      "source": [
        "##Apply cross validation on the first model"
      ],
      "metadata": {
        "id": "r4Nv-c7i8oUO"
      }
    },
    {
      "cell_type": "code",
      "source": [
        "classified_model1 = KerasClassifier(build_fn = create_model1 ,epochs=10, batch_size=100, verbose=0)\n",
        "cross_val_score(classified_model1, X_train_flattened, y_train, cv=2)"
      ],
      "metadata": {
        "id": "lY11efSJgoc1"
      },
      "execution_count": null,
      "outputs": []
    },
    {
      "cell_type": "markdown",
      "source": [
        "##get the acuuracies, percision and recalls of the first model"
      ],
      "metadata": {
        "id": "BXUgY8vT81bv"
      }
    },
    {
      "cell_type": "code",
      "source": [
        "accuracies1 = cross_val_score(estimator=classified_model1, X = X_train_flattened, y = y_train, cv=5, n_jobs=-1, scoring=\"accuracy\")\n",
        "percesion1 = cross_val_score(estimator=classified_model1, X = X_train_flattened, y = y_train, cv=5, n_jobs=-1, scoring=\"precision_micro\")\n",
        "recall1 = cross_val_score(estimator=classified_model1, X = X_train_flattened, y = y_train, cv=5, n_jobs=-1, scoring=\"recall_micro\")\n",
        "print(\"model1 accuracies = \", accuracies1 * 100)\n",
        "print(\"model1 percisions = \", percesion1)\n",
        "print(\"model1 recalls = \", recall1)"
      ],
      "metadata": {
        "id": "DlTAdpizsTJS"
      },
      "execution_count": null,
      "outputs": []
    },
    {
      "cell_type": "markdown",
      "source": [
        "##Evalute the first model"
      ],
      "metadata": {
        "id": "7ezx9hIA9UF7"
      }
    },
    {
      "cell_type": "code",
      "source": [
        "returned_model1.evaluate(X_test_flattened,y_test)"
      ],
      "metadata": {
        "id": "OTCkUrWHXYQo"
      },
      "execution_count": null,
      "outputs": []
    },
    {
      "cell_type": "code",
      "source": [
        "returned_model1.summary()"
      ],
      "metadata": {
        "id": "KTkZiRxPNatr"
      },
      "execution_count": null,
      "outputs": []
    },
    {
      "cell_type": "markdown",
      "source": [
        "##Create the second model of 4 layers"
      ],
      "metadata": {
        "id": "0L8RGvVx9ele"
      }
    },
    {
      "cell_type": "code",
      "source": [
        "def create_model2():\n",
        "  model2 = Sequential()\n",
        "  model2.add(Dense(512, activation='relu'))\n",
        "  model2.add(Dense(100, activation='relu'))\n",
        "  model2.add(Dense(50, activation='relu'))\n",
        "  model2.add(Dense(10, activation='softmax'))\n",
        "  model2.compile(optimizer='adam', loss='sparse_categorical_crossentropy', metrics=['accuracy'])\n",
        "  return model2"
      ],
      "metadata": {
        "id": "AAp8u2JIeowv"
      },
      "execution_count": null,
      "outputs": []
    },
    {
      "cell_type": "code",
      "source": [
        "returned_model2 = create_model2()\n",
        "returned_model2.fit(X_train_flattened, y_train, epochs=5)"
      ],
      "metadata": {
        "id": "gImmY2mFersI"
      },
      "execution_count": null,
      "outputs": []
    },
    {
      "cell_type": "markdown",
      "source": [
        "##Apply cross validation on the second model"
      ],
      "metadata": {
        "id": "krkAujpQ9sTy"
      }
    },
    {
      "cell_type": "code",
      "source": [
        "classified_model2 = KerasClassifier(build_fn = create_model2 ,epochs=10, batch_size=100, verbose=0)\n",
        "cross_val_score(classified_model2, X_train_flattened, y_train, cv=2)"
      ],
      "metadata": {
        "id": "_ete3z1kuO7Z"
      },
      "execution_count": null,
      "outputs": []
    },
    {
      "cell_type": "markdown",
      "source": [
        "##get the acuuracies, percision and recalls of the second model"
      ],
      "metadata": {
        "id": "y3Vy7s9M94hB"
      }
    },
    {
      "cell_type": "code",
      "source": [
        "accuracies2 = cross_val_score(estimator=classified_model2, X = X_train_flattened, y = y_train, cv=5, n_jobs=-1, scoring=\"accuracy\")\n",
        "percesion2 = cross_val_score(estimator=classified_model2, X = X_train_flattened, y = y_train, cv=5, n_jobs=-1, scoring=\"precision_micro\")\n",
        "recall2 = cross_val_score(estimator=classified_model2, X = X_train_flattened, y = y_train, cv=5, n_jobs=-1, scoring=\"recall_micro\")\n",
        "print(\"model2 accuracies = \", accuracies2 * 100)\n",
        "print(\"model2 percisions = \", percesion2)\n",
        "print(\"model2 recalls = \", recall2)"
      ],
      "metadata": {
        "id": "wmz9TlLcuPRL"
      },
      "execution_count": null,
      "outputs": []
    },
    {
      "cell_type": "markdown",
      "source": [
        "##Evalute the second model"
      ],
      "metadata": {
        "id": "K_yfsah0-Bdr"
      }
    },
    {
      "cell_type": "code",
      "source": [
        "returned_model2.evaluate(X_test_flattened,y_test)"
      ],
      "metadata": {
        "id": "uILwIBoqfU0j"
      },
      "execution_count": null,
      "outputs": []
    },
    {
      "cell_type": "code",
      "source": [
        "returned_model2.summary()"
      ],
      "metadata": {
        "id": "C2kfvssofW6C"
      },
      "execution_count": null,
      "outputs": []
    }
  ]
}